{
 "cells": [
  {
   "cell_type": "markdown",
   "id": "70ea7879-0418-4b9e-8678-a85df7584916",
   "metadata": {},
   "source": [
    "## Q1:What is the syntax for adding an element to a list in Python?"
   ]
  },
  {
   "cell_type": "markdown",
   "id": "7dcad95e-9436-40e1-82c0-bae173c4408b",
   "metadata": {},
   "source": [
    "1: append() \n",
    "\n",
    "2: insert()"
   ]
  },
  {
   "cell_type": "markdown",
   "id": "598936fb-7bff-4187-8aab-9d23e0bf2322",
   "metadata": {},
   "source": [
    "## Q2:What is the difference between remove() and pop() functions in Python?"
   ]
  },
  {
   "cell_type": "markdown",
   "id": "34bd4818-7b53-4513-813c-2ba1fbe5b3bb",
   "metadata": {},
   "source": [
    "## 1: remove() method:\n",
    "The remove() method is used to remove the first occurrence of a specific value from the list. It searches for the value you provide as an argument and removes the first occurrence of that value from the list. If the value is not found in the list, it raises a ValueError exception.\n",
    "\n",
    "### Syntax:\n",
    "\n",
    "my_list.remove(value)\n",
    "\n",
    "\n",
    "## 2: pop() method:\n",
    "The pop() method is used to remove an element at a specific index from the list and return its value. If you don't provide an index, it removes and returns the last element of the list. The removed element is returned, allowing you to store or use it.\n",
    "\n",
    "### Syntax:\n",
    "\n",
    "popped_element = my_list.pop(index)\n"
   ]
  },
  {
   "cell_type": "markdown",
   "id": "c1d2b8fd-c1cf-444e-ad33-e00dde9d24d1",
   "metadata": {},
   "source": [
    "## Q3:Write a Python code to sort a list in descending order."
   ]
  },
  {
   "cell_type": "code",
   "execution_count": 3,
   "id": "b0fb3e7b-c4ce-4334-9a21-2a16ae5c6dd2",
   "metadata": {},
   "outputs": [
    {
     "name": "stdout",
     "output_type": "stream",
     "text": [
      "Sorted list in descending order: [50, 40, 30, 20, 10]\n"
     ]
    }
   ],
   "source": [
    "list = [50, 30, 20, 40, 10]\n",
    "\n",
    "list.sort(reverse=True)\n",
    "\n",
    "print(\"Sorted list in descending order:\", list)\n"
   ]
  },
  {
   "cell_type": "markdown",
   "id": "2b0b7812-a7f4-48e9-811f-04b92382e4ca",
   "metadata": {},
   "source": [
    "## Q4:Write a Python code to count the number of occurrences of an element in a list."
   ]
  },
  {
   "cell_type": "code",
   "execution_count": null,
   "id": "c7ba28e8-1818-4152-b733-5a8f5c023b44",
   "metadata": {},
   "outputs": [],
   "source": []
  },
  {
   "cell_type": "markdown",
   "id": "f0f3dca2-175e-4b9b-960b-488e416284f1",
   "metadata": {},
   "source": [
    "## Q5:Write a Python code to reverse a list."
   ]
  },
  {
   "cell_type": "code",
   "execution_count": null,
   "id": "05cb3818-e921-4bde-99c8-297c08048e80",
   "metadata": {},
   "outputs": [],
   "source": []
  }
 ],
 "metadata": {
  "kernelspec": {
   "display_name": "Python 3 (ipykernel)",
   "language": "python",
   "name": "python3"
  },
  "language_info": {
   "codemirror_mode": {
    "name": "ipython",
    "version": 3
   },
   "file_extension": ".py",
   "mimetype": "text/x-python",
   "name": "python",
   "nbconvert_exporter": "python",
   "pygments_lexer": "ipython3",
   "version": "3.10.8"
  }
 },
 "nbformat": 4,
 "nbformat_minor": 5
}
