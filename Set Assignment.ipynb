{
 "cells": [
  {
   "cell_type": "markdown",
   "id": "9ffe9871-9c37-472c-aa05-403f9046ce40",
   "metadata": {},
   "source": [
    "## Q1: What is a set in Python?"
   ]
  },
  {
   "cell_type": "markdown",
   "id": "d7f00d16-1e45-48a2-b1ec-87da54fbcd9c",
   "metadata": {},
   "source": [
    "A set in Python is an unordered collection of unique elements. It is a built-in data type that represents a collection of distinct values. Sets are similar to lists and tuples, but they have some key differences:\n",
    "\n",
    "Uniqueness: Sets do not allow duplicate elements. Each element in a set must be unique.\n",
    "\n",
    "Order: Sets are unordered, which means that the elements do not have a specific order, and you cannot access them using indices like you can with lists.\n",
    "\n",
    "Mutability: Sets are mutable, meaning you can add and remove elements after the set is created.\n",
    "\n",
    "Sets are commonly used for tasks that involve checking membership, eliminating duplicates from a sequence, and performing mathematical operations like union, intersection, and difference."
   ]
  },
  {
   "cell_type": "markdown",
   "id": "0828ef0a-2e77-4888-80d6-c84dc239e6e6",
   "metadata": {},
   "source": [
    "## Q2.How do you create a set in Python?"
   ]
  },
  {
   "cell_type": "code",
   "execution_count": 6,
   "id": "3c2dc5b1-0fb1-4c2b-adf9-04ffdeadf84b",
   "metadata": {},
   "outputs": [
    {
     "name": "stdout",
     "output_type": "stream",
     "text": [
      "{1, 2, 3, 4, 5}\n",
      "{1, 2, 3, 4, 5}\n"
     ]
    }
   ],
   "source": [
    "## 1: Using curly braces {}:\n",
    "## You can create a set by enclosing comma-separated values within curly braces. Duplicate values are automatically removed, as sets only allow unique elements.\n",
    "\n",
    "# Creating a set using curly braces\n",
    "my_set = {1, 2, 3, 4, 5}\n",
    "print(my_set)  # Output: {1, 2, 3, 4, 5}\n",
    "\n",
    "\n",
    "\n",
    "## 2: Using the set() constructor:\n",
    "## You can also create a set using the set() constructor and passing an iterable (such as a list or a tuple) as an argument. The constructor will convert the elements of the iterable into a set.\n",
    "\n",
    "# Creating a set using the set() constructor\n",
    "my_list = [1, 2, 3, 4, 5]\n",
    "my_set = set(my_list)\n",
    "print(my_set)  # Output: {1, 2, 3, 4, 5}\n",
    "\n",
    "\n"
   ]
  },
  {
   "cell_type": "markdown",
   "id": "53aa0ac9-3d86-43f4-9306-394c368968e9",
   "metadata": {},
   "source": [
    "## Q3: How do you add elements to a set in Python?"
   ]
  },
  {
   "cell_type": "code",
   "execution_count": 8,
   "id": "38663c01-e1ba-4685-99e8-9d6679386d13",
   "metadata": {},
   "outputs": [
    {
     "name": "stdout",
     "output_type": "stream",
     "text": [
      "{10, 20, 30}\n"
     ]
    }
   ],
   "source": [
    "# Creating an empty set\n",
    "my_set = set()\n",
    "\n",
    "my_set.add(10)\n",
    "my_set.add(20)\n",
    "my_set.add(30)\n",
    "\n",
    "print(my_set)  # Output: {10, 20, 30}\n"
   ]
  },
  {
   "cell_type": "markdown",
   "id": "fa7929a5-6d91-44e0-910e-b03e78e004e1",
   "metadata": {},
   "source": [
    "## Q4: How do you remove elements from a set in Python?"
   ]
  },
  {
   "cell_type": "code",
   "execution_count": 10,
   "id": "d3e9e281-9f49-4296-92a7-e350e33d6a48",
   "metadata": {},
   "outputs": [
    {
     "name": "stdout",
     "output_type": "stream",
     "text": [
      "{40, 10, 30}\n",
      "set()\n",
      "Removed element: 40\n",
      "{10, 20, 30}\n"
     ]
    }
   ],
   "source": [
    "## 1: remove() method:\n",
    "## The remove() method is used to remove a specific element from the set. If the element is not present in the set, it will raise a KeyError. Use this method if you're sure the element exists in the set.\n",
    "\n",
    "my_set = {10, 20, 30, 40}\n",
    "\n",
    "my_set.remove(20)  # Removes the element 20\n",
    "print(my_set)      # Output: {10, 30, 40}\n",
    "\n",
    "\n",
    "\n",
    "## clear() method:\n",
    "## The clear() method removes all elements from the set, leaving it empty.\n",
    "\n",
    "my_set = {10, 20, 30, 40}\n",
    "\n",
    "my_set.clear()\n",
    "print(my_set)  # Output: set()\n",
    "\n",
    "\n",
    "\n",
    "\n",
    "## pop() method:\n",
    "## The pop() method removes and returns an arbitrary element from the set. Since sets are unordered, there's no guarantee about which element will be removed. If the set is empty, a KeyError will be raised.\n",
    "\n",
    "my_set = {10, 20, 30, 40}\n",
    "\n",
    "removed_element = my_set.pop()\n",
    "print(\"Removed element:\", removed_element)\n",
    "print(my_set)  # Output will show the remaining elements in the set\n"
   ]
  },
  {
   "cell_type": "markdown",
   "id": "3371d05e-885d-402c-8eb9-41d40d2d6c1d",
   "metadata": {},
   "source": [
    "## Q5: How do you get the length of a set in Python?"
   ]
  },
  {
   "cell_type": "code",
   "execution_count": null,
   "id": "eed7fb0a-59ac-4dbb-8f70-5c267880a614",
   "metadata": {},
   "outputs": [],
   "source": []
  }
 ],
 "metadata": {
  "kernelspec": {
   "display_name": "Python 3 (ipykernel)",
   "language": "python",
   "name": "python3"
  },
  "language_info": {
   "codemirror_mode": {
    "name": "ipython",
    "version": 3
   },
   "file_extension": ".py",
   "mimetype": "text/x-python",
   "name": "python",
   "nbconvert_exporter": "python",
   "pygments_lexer": "ipython3",
   "version": "3.10.8"
  }
 },
 "nbformat": 4,
 "nbformat_minor": 5
}
