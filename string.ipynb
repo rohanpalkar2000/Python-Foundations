{
 "cells": [
  {
   "cell_type": "markdown",
   "id": "0dfce7c2-8313-425a-bbb4-16922d654bd2",
   "metadata": {},
   "source": [
    "# Q1. How can we store a single quote (') as a string in a variable?"
   ]
  },
  {
   "cell_type": "code",
   "execution_count": 12,
   "id": "c8f3fe00-bb5c-4352-921a-74580e4c9179",
   "metadata": {},
   "outputs": [
    {
     "name": "stdout",
     "output_type": "stream",
     "text": [
      "I am using a single quote.\n",
      "I am using a single quote.\n"
     ]
    }
   ],
   "source": [
    "## To store a single quote (') as a string in a variable, you can use either double quotes (\") or escape the single quote using a backslash (\\). Here's how you can do it in Python:\n",
    "\n",
    "## 1. Using Double Quotes:\n",
    "### Storing a single quote as a string using double quotes\n",
    "single_quote_str1 = \"I am using a single quote.\"\n",
    "### Printing the result\n",
    "print(single_quote_str1)\n",
    "\n",
    "\n",
    "## 2.Using Escape Character:\n",
    "### Storing a single quote as a string using an escape character\n",
    "single_quote_str2 = 'I am using a single quote.'\n",
    "\n",
    "### Printing the result\n",
    "print(single_quote_str2)\n",
    "\n",
    "\n",
    "# In the first method, we used double quotes to define the string, so the single quote inside the string is treated as a regular character. \n",
    "# In the second method, we used a backslash (\\) before the single quote, which is an escape character. \n",
    "# The escape character tells Python that the following character should be treated as a literal character and not as a special character."
   ]
  },
  {
   "cell_type": "markdown",
   "id": "07e7d0c2-f545-403f-b2f5-22d68c856ddc",
   "metadata": {},
   "source": [
    "# Q2. Refer the below variable:\n",
    "## x = 'a'\n",
    "## Here, 1s x a character type or string type variable? Support your answer with an explanation."
   ]
  },
  {
   "cell_type": "markdown",
   "id": "77c8da71-de2d-4e66-827d-ec4a5f12fd87",
   "metadata": {},
   "source": [
    "x = 'a'\n",
    "The variable x is a character type variable.\n",
    "\n",
    "In Python, a single character is represented using a string literal containing just one character. So, when you assign the value 'a' to the variable x, Python treats it as a string literal with a length of 1 character.\n",
    "\n",
    "In Python, both single characters and strings are represented using the same data type, which is the string type (str). There is no distinct data type specifically for single characters. In other programming languages, such as C or C++, there is a separate data type for single characters (e.g., char), but in Python, single characters are represented as strings.\n",
    "\n",
    "x = 'a'\n",
    "print(type(x))\n",
    "\n"
   ]
  },
  {
   "cell_type": "markdown",
   "id": "66690e9d-661b-4442-ace6-66f0b1b6b973",
   "metadata": {},
   "source": [
    "# Q3. Apply the following functions on this variable: 'Welcome to Python foundation course'\n",
    "## 1.find ()\n",
    "## 2.count()\n",
    "## 3.len()\n",
    "## 4.Concatenation\n",
    "## Note: You can use your choice of parameters. But make sure it is correct."
   ]
  },
  {
   "cell_type": "code",
   "execution_count": 7,
   "id": "d7130f83-d9ac-46c4-87ac-69b3a07d4074",
   "metadata": {},
   "outputs": [
    {
     "name": "stdout",
     "output_type": "stream",
     "text": [
      "Index of 'Python': 11\n",
      "Number of occurrences of 'Python': 1\n",
      "Length of the string: 35\n",
      "Concatenated String: Welcome to Python foundation course\n"
     ]
    }
   ],
   "source": [
    "text = 'Welcome to Python foundation course'\n",
    "\n",
    "# 1. find()\n",
    "# The find() function returns the index of the first occurrence of the specified substring.\n",
    "# If the substring is not found, it returns -1.\n",
    "index = text.find('Python')\n",
    "print(\"Index of 'Python':\", index)\n",
    "\n",
    "# 2. count()\n",
    "# The count() function returns the number of occurrences of the specified substring.\n",
    "count_python = text.count('Python')\n",
    "print(\"Number of occurrences of 'Python':\", count_python)\n",
    "\n",
    "# 3. len()\n",
    "# The len() function returns the length of the string.\n",
    "length = len(text)\n",
    "print(\"Length of the string:\", length)\n",
    "\n",
    "# 4. Concatenation\n",
    "# We can concatenate two strings using the + operator.\n",
    "first_part = 'Welcome to '\n",
    "second_part = 'Python foundation course'\n",
    "concatenated_string = first_part + second_part\n",
    "print(\"Concatenated String:\", concatenated_string)\n"
   ]
  },
  {
   "cell_type": "markdown",
   "id": "4b5392e4-71fc-4f82-b25b-617278c7cb71",
   "metadata": {},
   "source": [
    "# Q4. For the variable: wor = 'PanaJi@12256'\n",
    "## Calculate the following:\n",
    "## (a) Total number of alphabets in lowercase\n",
    "## (b) Total number of alphabets in uppercase\n",
    "## (c) Total number of numerical in string"
   ]
  },
  {
   "cell_type": "code",
   "execution_count": 8,
   "id": "bb301cb5-e362-4cdb-b50a-c34a8010a861",
   "metadata": {},
   "outputs": [
    {
     "name": "stdout",
     "output_type": "stream",
     "text": [
      "(a) Total number of alphabets in lowercase: 4\n",
      "(b) Total number of alphabets in uppercase: 2\n",
      "(c) Total number of numerical characters in the string: 5\n"
     ]
    }
   ],
   "source": [
    "wor = 'PanaJi@12256'\n",
    "\n",
    "# (a) Total number of alphabets in lowercase\n",
    "lowercase_count = sum(1 for char in wor if char.islower())\n",
    "\n",
    "# (b) Total number of alphabets in uppercase\n",
    "uppercase_count = sum(1 for char in wor if char.isupper())\n",
    "\n",
    "# (c) Total number of numerical characters in the string\n",
    "numeric_count = sum(1 for char in wor if char.isnumeric())\n",
    "\n",
    "# Printing the results\n",
    "print(\"(a) Total number of alphabets in lowercase:\", lowercase_count)\n",
    "print(\"(b) Total number of alphabets in uppercase:\", uppercase_count)\n",
    "print(\"(c) Total number of numerical characters in the string:\", numeric_count)\n"
   ]
  },
  {
   "cell_type": "markdown",
   "id": "0b0fb26a-78de-41e3-bf15-104c02d2aef6",
   "metadata": {},
   "source": [
    "# Q5. Write a code to store a numerical value inside a variable then convert it into string."
   ]
  },
  {
   "cell_type": "code",
   "execution_count": 3,
   "id": "0decaa57-8bf8-4313-89ec-36093d9ae7f3",
   "metadata": {},
   "outputs": [
    {
     "name": "stdout",
     "output_type": "stream",
     "text": [
      "Numerical Value: 42\n",
      "String Value: 42\n",
      "Type of numerical_value: <class 'int'>\n",
      "Type of string_value: <class 'str'>\n"
     ]
    }
   ],
   "source": [
    "## In most programming languages, you can store a numerical value in a variable and then convert it into a string. \n",
    "## Below is an example code in Python to demonstrate this:\n",
    "\n",
    "### Storing a numerical value in a variable\n",
    "numerical_value = 42\n",
    "\n",
    "### Converting the numerical value into a string\n",
    "string_value = str(numerical_value)\n",
    "\n",
    "### Printing the results\n",
    "print(\"Numerical Value:\", numerical_value)\n",
    "print(\"String Value:\", string_value)\n",
    "\n",
    "### Confirming the types of the variables\n",
    "print(\"Type of numerical_value:\", type(numerical_value))\n",
    "print(\"Type of string_value:\", type(string_value))\n"
   ]
  }
 ],
 "metadata": {
  "kernelspec": {
   "display_name": "Python 3 (ipykernel)",
   "language": "python",
   "name": "python3"
  },
  "language_info": {
   "codemirror_mode": {
    "name": "ipython",
    "version": 3
   },
   "file_extension": ".py",
   "mimetype": "text/x-python",
   "name": "python",
   "nbconvert_exporter": "python",
   "pygments_lexer": "ipython3",
   "version": "3.10.8"
  }
 },
 "nbformat": 4,
 "nbformat_minor": 5
}
