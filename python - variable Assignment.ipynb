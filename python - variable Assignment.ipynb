{
 "cells": [
  {
   "cell_type": "markdown",
   "id": "cd7e1f47-acaa-47f2-b9ed-3fa1857c61ae",
   "metadata": {},
   "source": [
    "# Q1. Write all the conventions being followed while declaring a variable."
   ]
  },
  {
   "cell_type": "markdown",
   "id": "ceebad2b-b863-4667-92e7-acaee2a1ba8d",
   "metadata": {},
   "source": [
    "***The standard naming conventions used in modern software development are as follows:***\n",
    "\n",
    "* Pascal case\n",
    "* camel case\n",
    "* snake case\n",
    "* kebab case"
   ]
  },
  {
   "cell_type": "markdown",
   "id": "811ac7bd-2239-42ce-9b3b-acf43b2f59dc",
   "metadata": {},
   "source": [
    "# Q2. What will happen if we declare a restricted keyword as a variable?"
   ]
  },
  {
   "cell_type": "markdown",
   "id": "12b9fea0-6595-4d65-8a5f-609884765973",
   "metadata": {},
   "source": [
    "If you declare a restricted keyword as a variable in a programming language, the outcome will depend on the specific language you are using. However, in most programming languages, attempting to use a restricted keyword as a variable name will result in a syntax error or a similar issue preventing successful compilation or execution of your code.\n",
    "Restricted keywords are words reserved by the programming language for specific purposes, such as defining control structures (if, else, while, etc.), data types (int, float, etc.), or other language-specific constructs. They cannot be used as variable names because doing so would lead to ambiguity and make it difficult for the compiler or interpreter to distinguish between keywords and user-defined identifiers."
   ]
  },
  {
   "cell_type": "markdown",
   "id": "7b14282e-754f-4713-ad3c-fbe8d526af04",
   "metadata": {},
   "source": [
    "# Q3. Can we actually declare a string as a variable name?"
   ]
  },
  {
   "cell_type": "markdown",
   "id": "54a452f3-7500-4ca1-b9d3-396da6ca7062",
   "metadata": {},
   "source": [
    "The ability to declare a string as a variable name depends on the programming language you are using. In some programming languages, it is possible to use a string as a variable name, while in others, it is not allowed or may require special handling.\n",
    "\n",
    "### Example:\n",
    "create variable names using strings through a dictionary or other data structures.\n",
    "\n",
    "variable_name = \"my_variable\"\n",
    "\n",
    "value = 42\n",
    "\n",
    "##Create a variable with the name specified in variable_name\n",
    "\n",
    "globals()[variable_name] = value\n",
    "\n",
    "print(my_variable)  # Output: 42\n",
    "\n"
   ]
  },
  {
   "cell_type": "markdown",
   "id": "23340401-6106-4cc5-a1ab-e7de4ec15e58",
   "metadata": {},
   "source": [
    "# Q4. Is it possible for us to declare “_” as a variable? If so, then write an example of it."
   ]
  },
  {
   "cell_type": "markdown",
   "id": "aa759d3e-821c-4b16-bac2-e2fd400cf8c9",
   "metadata": {},
   "source": [
    "Yes, in many programming languages, you can declare a variable with the name \"_\" (underscore). The underscore is considered a valid variable name and is often used for certain purposes, depending on the language.\n",
    "\n",
    "### Example\n",
    "_ = 42\n",
    "\n",
    "print(_)  # Output: 42\n",
    "\n",
    "In Python, a single underscore is commonly used as a throwaway variable to indicate that the value it holds is not going to be used. \n",
    "### For example:\n",
    "first_name, last_name, _ = (\"John\", \"Doe\", 30)\n"
   ]
  },
  {
   "cell_type": "markdown",
   "id": "3ac203cf-e6df-48b9-b5d9-041210d4f18e",
   "metadata": {},
   "source": [
    "# Q5. Using an example, explain how the variables in python are dynamic in nature."
   ]
  },
  {
   "cell_type": "markdown",
   "id": "1edfd4b9-a732-4b99-82d8-96a0168264ae",
   "metadata": {},
   "source": [
    "In Python, variables are dynamic in nature, which means you can change their data type and value during the execution of your program. Unlike some statically-typed languages where you have to declare the data type of a variable before using it and that type cannot be changed later, Python allows you to reassign a variable to a different value with a different data type on the fly.\n",
    "\n",
    "### Example: we reassign the variable x to a string value\n",
    "x = \"Hello, Python!\"\n",
    "\n",
    "print(\"x =\", x)  # Output: x = Hello, Python!\n",
    "\n",
    "print(\"Type of x:\", type(x))  # Output: Type of x: <class 'str'>\n"
   ]
  }
 ],
 "metadata": {
  "kernelspec": {
   "display_name": "Python 3 (ipykernel)",
   "language": "python",
   "name": "python3"
  },
  "language_info": {
   "codemirror_mode": {
    "name": "ipython",
    "version": 3
   },
   "file_extension": ".py",
   "mimetype": "text/x-python",
   "name": "python",
   "nbconvert_exporter": "python",
   "pygments_lexer": "ipython3",
   "version": "3.10.8"
  }
 },
 "nbformat": 4,
 "nbformat_minor": 5
}
