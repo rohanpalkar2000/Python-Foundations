{
 "cells": [
  {
   "cell_type": "markdown",
   "id": "33cd7c5a-5faa-4110-b9aa-6a501d0cf196",
   "metadata": {},
   "source": [
    "## Q1: Create an empty list."
   ]
  },
  {
   "cell_type": "code",
   "execution_count": 1,
   "id": "4f366ca2-fc7a-4b03-8cbd-d3d64003d6ee",
   "metadata": {},
   "outputs": [],
   "source": [
    "a = []"
   ]
  },
  {
   "cell_type": "markdown",
   "id": "c5bb330b-f381-4b4f-aa86-a6bdca1cb8c9",
   "metadata": {},
   "source": [
    "## Q2: Create a list and add an element to the end of this list."
   ]
  },
  {
   "cell_type": "code",
   "execution_count": 17,
   "id": "72840674-1d45-4d2f-9abf-71f1525a51c3",
   "metadata": {},
   "outputs": [
    {
     "name": "stdout",
     "output_type": "stream",
     "text": [
      "[10, 20, 40, 30, '60']\n"
     ]
    }
   ],
   "source": [
    "a = [10,20,40,30]\n",
    "\n",
    "a.append(\"60\")\n",
    "print(a)"
   ]
  },
  {
   "cell_type": "markdown",
   "id": "9a7bfd17-00ae-42b3-9a3e-4fc824d2ac69",
   "metadata": {},
   "source": [
    "## Q3: For the above created list print the last element."
   ]
  },
  {
   "cell_type": "code",
   "execution_count": 18,
   "id": "38fed06d-784d-4878-8a86-455526682b33",
   "metadata": {},
   "outputs": [
    {
     "data": {
      "text/plain": [
       "'60'"
      ]
     },
     "execution_count": 18,
     "metadata": {},
     "output_type": "execute_result"
    }
   ],
   "source": [
    "a[-1]"
   ]
  },
  {
   "cell_type": "markdown",
   "id": "61c45aa4-8a91-4ade-9216-a462b0662282",
   "metadata": {},
   "source": [
    "## Q4: Reverse the above created list."
   ]
  },
  {
   "cell_type": "code",
   "execution_count": 46,
   "id": "1e24bc09-5b01-4341-8763-4530a43e29cc",
   "metadata": {},
   "outputs": [
    {
     "name": "stdout",
     "output_type": "stream",
     "text": [
      "['60', 40, 30, 20, 10]\n"
     ]
    }
   ],
   "source": [
    "A = a[::-1]\n",
    "print(A)"
   ]
  },
  {
   "cell_type": "markdown",
   "id": "da7c7661-6e39-47a5-bb2d-006efff741bb",
   "metadata": {},
   "source": [
    "## Q5: Sort the above created list."
   ]
  },
  {
   "cell_type": "code",
   "execution_count": 64,
   "id": "bbe794cd-e62d-4186-9595-e4827d3256be",
   "metadata": {},
   "outputs": [
    {
     "name": "stdout",
     "output_type": "stream",
     "text": [
      "Sorted list of favorite cities: ['New York', 'Paris', 'Tokyo', 'London', 'Sydney']\n"
     ]
    }
   ],
   "source": [
    "a = [10,20,40,30]\n",
    "\n",
    "a.sort()\n",
    "\n",
    "# Print the sorted list\n",
    "print(\"Sorted list of favorite cities:\", favorite_cities)"
   ]
  },
  {
   "cell_type": "markdown",
   "id": "3e73403d-8f51-4d48-b938-6efd954ffa55",
   "metadata": {},
   "source": [
    "## Q6: Create a list of your top three favorite movies, then print the second movie title."
   ]
  },
  {
   "cell_type": "code",
   "execution_count": 25,
   "id": "26222b11-8bfb-471a-b376-4a37df078e83",
   "metadata": {},
   "outputs": [
    {
     "data": {
      "text/plain": [
       "'PUSHPA'"
      ]
     },
     "execution_count": 25,
     "metadata": {},
     "output_type": "execute_result"
    }
   ],
   "source": [
    "movie = [\"OMG2\",\"KGF1\",\"PUSHPA\"]\n",
    "movie[2]"
   ]
  },
  {
   "cell_type": "markdown",
   "id": "928c04ab-914a-48d3-9ad1-06420b2b7f1b",
   "metadata": {},
   "source": [
    "## Q7: Create a list of your favorite animals, then add a new animal to the list and print the updated list."
   ]
  },
  {
   "cell_type": "code",
   "execution_count": 55,
   "id": "468679f5-9abb-41f8-9442-aa6890220294",
   "metadata": {},
   "outputs": [
    {
     "name": "stdout",
     "output_type": "stream",
     "text": [
      "['Dog', 'Cat', 'Cow', 'Elephant']\n"
     ]
    }
   ],
   "source": [
    "animal = [\"Dog\",\"Cat\",\"Cow\"]\n",
    "\n",
    "new_animal = \"Elephant\"\n",
    "\n",
    "animal.append(new_animal)\n",
    "print(animal)"
   ]
  },
  {
   "cell_type": "markdown",
   "id": "0ed3ace0-031b-4ca7-ad5f-29f8f656d275",
   "metadata": {},
   "source": [
    "## Q8: Create a list of your favorite cities, then use the index() method to find the position of a specific city on the list and print it."
   ]
  },
  {
   "cell_type": "code",
   "execution_count": 58,
   "id": "99904ff6-222f-4f80-a94f-871dc62da35e",
   "metadata": {},
   "outputs": [
    {
     "name": "stdout",
     "output_type": "stream",
     "text": [
      "1\n"
     ]
    }
   ],
   "source": [
    "city = [\"Mumbai\",\"Delhi\",\"Palghar\"]\n",
    "\n",
    "find = city.index(\"Delhi\")\n",
    "\n",
    "print(find)"
   ]
  }
 ],
 "metadata": {
  "kernelspec": {
   "display_name": "Python 3 (ipykernel)",
   "language": "python",
   "name": "python3"
  },
  "language_info": {
   "codemirror_mode": {
    "name": "ipython",
    "version": 3
   },
   "file_extension": ".py",
   "mimetype": "text/x-python",
   "name": "python",
   "nbconvert_exporter": "python",
   "pygments_lexer": "ipython3",
   "version": "3.10.8"
  }
 },
 "nbformat": 4,
 "nbformat_minor": 5
}
